{
  "metadata": {
    "kernelspec": {
      "name": "python",
      "display_name": "Python (Pyodide)",
      "language": "python"
    },
    "language_info": {
      "codemirror_mode": {
        "name": "python",
        "version": 3
      },
      "file_extension": ".py",
      "mimetype": "text/x-python",
      "name": "python",
      "nbconvert_exporter": "python",
      "pygments_lexer": "ipython3",
      "version": "3.8"
    }
  },
  "nbformat_minor": 4,
  "nbformat": 4,
  "cells": [
    {
      "cell_type": "markdown",
      "source": "# H1: Data Science Tools Ecosystem",
      "metadata": {}
    },
    {
      "cell_type": "markdown",
      "source": "En este curso, se resumen las herramientas y ecosistemas de \nciencia de datos",
      "metadata": {}
    },
    {
      "cell_type": "markdown",
      "source": "# Objetivos\n- First Listar lenguajes populares\n- Second Listar algunas bibliotecas comunes\n- Third Tabla de Herramienta de Ciencia de Datos\n- Fourth Ejemplos de expresiones Aritméticas\n- Fifth Expresion de multiplicacion\n- Sixth Conversión de tiempo",
      "metadata": {}
    },
    {
      "cell_type": "markdown",
      "source": "# Algunos de los lenguajes populares que utilizan los científicos de datos son: \n\n1. First Python\n2. Second C++\n3. Third Java",
      "metadata": {}
    },
    {
      "cell_type": "markdown",
      "source": "# Algunas bibliotecas comúnmente utilizadas por los científicos de datos incluyen:\n1. First Pandas\n2. Second Numpy\n3. Third Scikit-learn\n4. Fourth Matplotlib",
      "metadata": {}
    },
    {
      "cell_type": "markdown",
      "source": "| Herramientas de Ciencia de Datos |\n|----------------------------------|    \n| Jupyter Notebook |\n| VS Code |\n| Apache Spark |",
      "metadata": {}
    },
    {
      "cell_type": "markdown",
      "source": "# A continuación, se presenta algunos ejemplos de evaluación de expresiones aritméticas en Python:\n\nprint(\"4+3 = \", 4+3)\nprint(\"7-2 = \", 7-2)",
      "metadata": {}
    },
    {
      "cell_type": "markdown",
      "source": "# Esta es una expresion aritmetica simple para mulitiplicar y luego sumar enteros\nprint(\"(3*4)+5 = \", (3*4)+5)",
      "metadata": {
        "scrolled": true
      }
    },
    {
      "cell_type": "markdown",
      "source": "# Esto convertirá 200 minutos a horas, haciendo una division\na= 200/60\nprint(a)",
      "metadata": {}
    },
    {
      "cell_type": "markdown",
      "source": "# H2 Autor\nnombre: Antonio Angelo Martel Sanchez",
      "metadata": {}
    }
  ]
}